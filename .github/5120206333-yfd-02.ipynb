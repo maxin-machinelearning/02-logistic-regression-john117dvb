{
 "cells": [
  {
   "cell_type": "markdown",
   "metadata": {},
   "source": [
    "LOGISTIC学习"
   ]
  },
  {
   "cell_type": "code",
   "execution_count": 72,
   "metadata": {},
   "outputs": [],
   "source": [
    "import numpy as np\n",
    "import matplotlib.pyplot as plt\n",
    "\n",
    "# 构建数据\n",
    "N = 100\n",
    "\n",
    "X = np.linspace(-1,1,N)\n",
    "\n",
    "label = np.array(np.concatenate((np.zeros(77),np.ones(23))))"
   ]
  },
  {
   "cell_type": "markdown",
   "metadata": {},
   "source": [
    "进行打标签,将数据打乱处理"
   ]
  },
  {
   "cell_type": "code",
   "execution_count": 73,
   "metadata": {},
   "outputs": [],
   "source": [
    "# 构建测试数据及训练数据\n",
    "from sklearn.model_selection import train_test_split\n",
    "X_train,X_test,label_train,label_test=train_test_split(\n",
    "    X,label,test_size=0.2,random_state=17)\n"
   ]
  },
  {
   "cell_type": "markdown",
   "metadata": {},
   "source": [
    "使用sklearn进行预测"
   ]
  },
  {
   "cell_type": "code",
   "execution_count": 74,
   "metadata": {},
   "outputs": [],
   "source": [
    "from sklearn.linear_model import LogisticRegression #导入模型的数据\n",
    "\n",
    "mod = LogisticRegression()\n",
    "mod.fit(X_train.reshape(-1,1),label_train)\n",
    "\n",
    "label_pre = mod.predict(X_test.reshape(-1,1))"
   ]
  },
  {
   "cell_type": "code",
   "execution_count": 75,
   "metadata": {},
   "outputs": [
    {
     "name": "stdout",
     "output_type": "stream",
     "text": [
      "w值为:  3.526986891460267\n",
      "b值为:  -2.1350086315495855\n"
     ]
    }
   ],
   "source": [
    "w = mod.coef_[0][0]\n",
    "b = mod.intercept_[0]\n",
    "print(\"w值为: \",w)\n",
    "print(\"b值为: \",b)"
   ]
  },
  {
   "cell_type": "code",
   "execution_count": 76,
   "metadata": {},
   "outputs": [
    {
     "name": "stdout",
     "output_type": "stream",
     "text": [
      "3.526986891460267 *x+ -2.1350086315495855\n"
     ]
    }
   ],
   "source": [
    "#线性回归的值为\n",
    "print(w,'*x+',b)"
   ]
  },
  {
   "cell_type": "markdown",
   "metadata": {},
   "source": [
    "画出图像，展示分类效果"
   ]
  },
  {
   "cell_type": "code",
   "execution_count": 77,
   "metadata": {},
   "outputs": [
    {
     "data": {
      "image/png": "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",
      "text/plain": [
       "<Figure size 432x288 with 1 Axes>"
      ]
     },
     "metadata": {
      "needs_background": "light"
     },
     "output_type": "display_data"
    },
    {
     "data": {
      "image/png": "iVBORw0KGgoAAAANSUhEUgAAAX0AAAD6CAYAAABNu5eFAAAABHNCSVQICAgIfAhkiAAAAAlwSFlzAAALEgAACxIB0t1+/AAAADl0RVh0U29mdHdhcmUAbWF0cGxvdGxpYiB2ZXJzaW9uIDIuMi4zLCBodHRwOi8vbWF0cGxvdGxpYi5vcmcvIxREBQAAD6BJREFUeJzt3W+IXXdex/H3N0kLmaRb02aIVExiIAjrrlF7qRtMdVraZesflLi7LYYuWCW67FZ84INdGtFKq1CkUBdbdtasFhsWUpYtFLo2IoTWku7ujJpd6iqKJJVI6GwTm40FH+x+fXBvnOn0/jlz77n33Nvf+wWXOXPu75zzmd+585k7989MZCaSpDJsajqAJGlyLH1JKoilL0kFsfQlqSCWviQVxNKXpIJY+pJUEEtfkgpi6UtSQbY0cdCdO3fm3r17mzi0JM2s5eXl72Tm/Cj7aKT09+7dy9LSUhOHlqSZFRHnR92HD+9IUkEsfUkqiKUvSQWx9CWpIJa+JBXE0pekglj6klQQS1+SClKp9CNiV0S83Of66yLi+Yh4JSIeqC+eJAEnTsDevbBpU/vjiRNNJ3q3tRl37mxf1i9PQfaB78iNiB3A08C2PsMeBJYz8w8j4oWIeDYzv1tXSEkFO3ECjh6Ft99uf37+fPtzgCNHmsu11vqMb765et3a5SnIXuWe/veAe4ErfcYsACc7yy8BrdFiSVLHQw+tluk1b7/dXj8tumXspeHsA0s/M69k5lsDhm0DLnSWLwG71g+IiKMRsRQRSysrKxtPKqlMr7++sfVN2GiWBrPX9UTuVWBrZ3l7t/1m5mJmtjKzNT8/0h+Jk1SS3bs3tr4JG83SYPa6Sn8ZONRZPgCcq2m/kkr36KMwN/fOdXNz7fXTolvGXhrOvuHSj4g7I+LT61Y/DTwcEU8A7we+Vkc4SeLIEVhchD17IKL9cXFxep7EhXdnvPnm9mX98hRkj8ysZ0cRt9C+t//ioOcAWq1W+vf0JWljImI5M0d6oUxt/0QlM/+L1VfwSJKmkO/IlaSCWPqSVBBLX5IKYulLUkEsfUkqiKUvSQWx9CWpIJa+JBXE0pekglj6klQQS1+SCmLpS1JBLH1JKoilL0kFsfQlqSCWviQVxNKXpIJY+pJUEEtfkgpi6UtSQSx9SSqIpS9JBbH0Jakglr4kFcTSl6SCWPqSVBBLX5IKYulLUkEsfUkqiKUvSQWpVPoRcTwizkTEsR7X74iIFyJiKSI+X29ESVJdBpZ+RBwGNmfmQWBfROzvMux+4ERmtoAbIqJVc05JUg2q3NNfAE52lk8Bh7qMeRP4QET8APDDwH+uHxARRzu/CSytrKwMGVeSNIoqpb8NuNBZvgTs6jLm74E9wO8A3+6Me4fMXMzMVma25ufnh4wrSRpFldK/CmztLG/vsc0fAL+dmX8E/Avw6/XEkyTVqUrpL7P6kM4B4FyXMTuAD0bEZuCngawlnSSpVlVK/zng/oh4HPg48FpEPLJuzJ8Ai8BbwE3Al2pNKUmqxZZBAzLzSkQsAHcDj2XmReDsujFfB35sLAklSbUZWPoAmXmZ1VfwSJJmlO/IlaSCWPqSVBBLX5IKYulLUkEsfUkqiKUvSQWx9CWpIJa+JBXE0pekglj6klQQS1+SCmLpS1JBLH1JKoilL0kFsfQlqSCWviQVxNKXpIJY+pJUEEtfkgpi6UtSQSx9SSqIpS9JBbH0Jakglr4kFcTSl6SCWPqSVBBLX5IKYulLUkEsfUkqSKXSj4jjEXEmIo4NGPdkRPxSPdEkSXUbWPoRcRjYnJkHgX0Rsb/HuNuBH8zM52vOKEmqSZV7+gvAyc7yKeDQ+gERcR3wBeBcRPxybekkSbWqUvrbgAud5UvAri5jPgH8M/AYcFtEPLh+QEQcjYiliFhaWVkZNq8kaQRVSv8qsLWzvL3HNj8JLGbmReAZ4I71AzJzMTNbmdman58fNq8kaQRVSn+Z1Yd0DgDnuoz5d2BfZ7kFnB85mSSpdlsqjHkOeDkibgHuAe6LiEcyc+0reY4DX4yI+4DrgI/WH1WSNKqBpZ+ZVyJiAbgbeKzzEM7ZdWO+C3xsLAklSbWpck+fzLzM6it4JEkzynfkSlJBLH1JKoilL0kFsfQlqSCWviQVxNKXpIJY+pJUEEtfkgpi6UtSQSx9SSqIpS9JBbH0Jakglr4kFcTSl6SCWPqSVBBLX5IKYulLUkEsfUkqiKUvSQWx9CWpIJa+JBXE0pekglj6klQQS1+SCmLpS1JBLH1JKoilL0kFsfQlqSCWviQVxNKXpIJUKv2IOB4RZyLi2IBxuyLiH+uJJkmq28DSj4jDwObMPAjsi4j9fYb/KbC1rnCSpHpVuae/AJzsLJ8CDnUbFBF3Av8DXOxx/dGIWIqIpZWVlSGiSpJGVaX0twEXOsuXgF3rB0TE9cDvA5/ptZPMXMzMVma25ufnh8kqSRpRldK/yupDNtt7bPMZ4MnM/O+6gkmS6lel9JdZfUjnAHCuy5i7gE9FxGngJyLiL2pJJ0mq1ZYKY54DXo6IW4B7gPsi4pHM/P9X8mTmz15bjojTmfmb9UeVJI1qYOln5pWIWADuBh7LzIvA2T7jF2pLJ0mqVZV7+mTmZVZfwSNJmlG+I1eSCmLpS1JBLH1JKoilL0kFsfQlqSCWviQVxNKXpIJY+pJUEEtfkgpi6UtSQSx9SSqIpS9JBbH0Jakglr4kFcTSl6SCWPqSVBBLX5IKYulLUkEsfUkqiKUvSQWx9CWpIJa+JBXE0pekglj6klQQS1+SCmLpS1JBLH1JKoilL0kFsfQlqSCVSj8ijkfEmYg41uP6GyPiqxFxKiK+EhHX1xtTklSHgaUfEYeBzZl5ENgXEfu7DDsCPJ6ZHwYuAh+pN6YkqQ5bKoxZAE52lk8Bh4B/WzsgM59c8+k88EYd4SRJ9ary8M424EJn+RKwq9fAiDgI7MjMV7tcdzQiliJiaWVlZaiwkqTRVCn9q8DWzvL2XttExE3A54AHul2fmYuZ2crM1vz8/DBZJUkjqlL6y7Qf0gE4AJxbP6DzxO2zwGcz83xt6SRJtapS+s8B90fE48DHgdci4pF1Y34D+CngoYg4HRH31pxTklSDgU/kZuaViFgA7gYey8yLwNl1Y54CnhpLQklSbaq8eofMvMzqK3gkSTPKd+RKUkEsfUkqiKUvSQWx9CWpIJa+JBXE0pekglj6klQQS1+SCmLpS1JBLH1JKoilL0kFsfQlqSCWviQVxNKXpIJY+pJUEEtfkgpi6UtSQSx9SSqIpS9JBbH0Jakglr4kFcTSl6SCWPqSVBBLX5IKYulLUkEsfUkqiKUvSQWx9CWpIJa+JBVk9kr/xAnYuxc2bWp/PHFi8vvot/2w101K3fO3c2f7Mmh/VY877jmahnMwa6qe7zrOsedn/DJz4AU4DpwBjo0y5trl1ltvzaE880zm3FwmrF7m5trrJ7WPftsPe92kjGv+Bu2v6nHHPUfTcA5mTdXzXcc59vwMBCxlhc7ud6lS+IeBv+osfxHYP8yYtZehS3/Pnu43vD17JrePftsPe92kjHP++u2v6nHHPUfTcA5mTdXzXcc59vwMVEfpR3s/vUXEnwF/k5kvRMR9wNbM/MshxhwFjgLs3r371vPnz2/815JNm9o3g3eHhO9/fzL76Lc9DHdd1eyjGuf89dtf1ePWka+fce//vajq+YbRz3HVfRQsIpYzszXKPqo8pr8NuNBZvgTsGmZMZi5mZiszW/Pz88Nkhd27N7Z+HPvot/2w103KOOev35iqxx33HE3DOZg1Vc93HefY8zMRVUr/KrC1s7y9xzZVxozu0Udhbu6d6+bm2usntY9+2w973aSMa/4G7a/qccc9R9NwDmZN1fNdxzn2/EzGoMd/gE8Av9dZfhj4tWHGrL0M/Zh+ZvtJnT17MiPaH4d5kmfUffTbftjrJqXu+bv55vZl0P6qHnfcczQN52DWVD3fdZxjz09fTOgx/fcBLwN/B9wD3Ad8LDOP9Rnzocx8q9c+W61WLi0tDfVDSpJKNZHH9DPzCrAAvArckZln1xZ+jzE9C1+S1JwtVQZl5mXg5KhjJEnNmr135EqShmbpS1JBLH1JKoilL0kFsfQlqSCWviQVZOCbs8Zy0IgVYO1fXNsJfGfiQTbGjPWZhZyzkBFmI+csZITZyPmjmXnDKDuo9Dr9umXmO/7iWkQsjfous3EzY31mIecsZITZyDkLGWE2ckbEyH/KwId3JKkglr4kFWRaSn+x6QAVmLE+s5BzFjLCbOSchYwwGzlHztjIE7mSpGZMyz19SdIEWPqSVJCJlH5E7IqIlweMuS4ino+IVyLigV7rxpzzeESciYhjfcZ8MiJOdy7/FBGfj4gtEfH6mvUfbDhj1zwR8XBEfCMi/nxc+TaQ8caI+GpEnIqIr0TE9VM4j+8aU2W7SWVseg4rZmz0triBnI1+X6/J0bcr6+jJsZd+ROwAnqb9z9P7eRBYzsyfAT4aETf0WDeunIeBzZl5ENgXEfu7jcvMpzJzITMXaP+3sC8APw586dr6zPxWkxm75YmIW4FDwG3AGxFxV8MZjwCPZ+aHgYvAR7rlbipjtzEb+NomkpEG53ADGRu7LW4kZ5Pf12tyVunKkXtyEvf0vwfcC1wZMG6B1X/C8hLQ6rFuXNYe6xTtG2VPEfFDwK7MXAI+BPxiRHy9c49iXG96q5qxW56fA77c+T+bLwK3N5kxM5/MzL/tfDoPvNEjd1MZu42psl1dBh6r4TmslLFHnkndFjeSE2js+/qaKl25wIg9WXvpd34tuvbr0Gngdyv++8RtwIXO8iVgV49148r54AaP9Sngqc7yN4C7MvM24Drg5xvO2C3PWOZy1HmMiIPAjsx8tUfucagyFxO9PQ6ZEWhsDqtmnNhtccSc14z9+7qXzLxSoStHvl3W/pMrM39ryE2vAluBt4Dtnc+7ravF+pwR8UTnWHSO1fMHYkRsAu4AHuqs+mZm/m9neQmo5df+ETJ2y3NtLgdtO6mMRMRNwOeAX+2TexyqzEW3MWOZwxEyNjmHVTNO7LbYR9W5nMj39YhG7slpevXOMqu/dh0AzvVYN8nj93I78LVcfZPDX0fEgYjYDPwKcLbhjN3yTGouKx0nIq4HngU+m5nX/vjeNM3j1N8eG57DShl75JnkPLKB4zX1fb0Ro98uM3MiF+D0muU7gU+vu34P8BrwBO1fqzZ3WzfGfO+jfVIfB74N3Ai8H3iky9g/Bg6v+fwDwDeBbwGPNp2xWx7aP+Bf6czlvwI/0nDGTwKXgdOdy70NzuOBLvm6fR3vWtdwxsbmcAMZG7stbiRnZ1wj39ddcpzufBxLT07VO3Ij4hbaP7FezM5jW93WjfH4O4C7gZcy8+I4jzWsUTJGxFbgF4B/yMz/GEe+znHeE/PYbcwkv7b3yjz22G4it8U1x5v6uaxq1J6cqtKXJI3XND2mL0kaM0tfkgpi6UtSQSx9SSqIpS9JBfk/VGx+PpRtuqQAAAAASUVORK5CYII=",
      "text/plain": [
       "<Figure size 432x288 with 1 Axes>"
      ]
     },
     "metadata": {
      "needs_background": "light"
     },
     "output_type": "display_data"
    }
   ],
   "source": [
    "plt.figure(2)\n",
    "plt.scatter(X_test,label_test,color = 'blue')\n",
    "plt.show()\n",
    "\n",
    "\n",
    "plt.figure(3)\n",
    "plt.scatter(X_test,label_pre,color = 'red')\n",
    "plt.show()"
   ]
  },
  {
   "cell_type": "markdown",
   "metadata": {},
   "source": [
    "构建sigmoid函数"
   ]
  },
  {
   "cell_type": "code",
   "execution_count": 78,
   "metadata": {},
   "outputs": [],
   "source": [
    "def sigmoid(x):\n",
    "    return 1/(1 + np.exp(-x))\n",
    "\n",
    "def logisticfun(w,x):\n",
    "    return sigmoid(x * w)\n"
   ]
  },
  {
   "cell_type": "markdown",
   "metadata": {},
   "source": [
    "均方误差MSE"
   ]
  },
  {
   "cell_type": "code",
   "execution_count": 79,
   "metadata": {},
   "outputs": [],
   "source": [
    "def get_mse(x,y,w):\n",
    "    return np.mean((logisticfun(w,x)-y) ** 2)"
   ]
  },
  {
   "cell_type": "markdown",
   "metadata": {},
   "source": [
    "使用minimize求得最优解"
   ]
  },
  {
   "cell_type": "code",
   "execution_count": 80,
   "metadata": {},
   "outputs": [
    {
     "data": {
      "text/plain": [
       "array([1.27224591])"
      ]
     },
     "execution_count": 80,
     "metadata": {},
     "output_type": "execute_result"
    }
   ],
   "source": [
    "from scipy.optimize import minimize\n",
    "\n",
    "res_1 = minimize(get_mse,x0 = 1,args=(X_train,label_train))\n",
    "res_1.x"
   ]
  },
  {
   "cell_type": "markdown",
   "metadata": {},
   "source": [
    "minimize使用\n",
    "\n",
    "(函数,输入起始点,传入参数)"
   ]
  },
  {
   "cell_type": "code",
   "execution_count": 81,
   "metadata": {},
   "outputs": [
    {
     "name": "stderr",
     "output_type": "stream",
     "text": [
      "f:\\anaconda\\lib\\site-packages\\matplotlib\\legend.py:592: UserWarning: The handle 'a' has a label of '_' which cannot be automatically added to the legend.\n",
      "  'legend.'.format(handle, label))\n",
      "f:\\anaconda\\lib\\site-packages\\matplotlib\\legend.py:937: UserWarning: Legend does not support 'l' instances.\n",
      "A proxy artist may be used instead.\n",
      "See: http://matplotlib.org/users/legend_guide.html#creating-artists-specifically-for-adding-to-the-legend-aka-proxy-artists\n",
      "  \"aka-proxy-artists\".format(orig_handle)\n",
      "f:\\anaconda\\lib\\site-packages\\matplotlib\\legend.py:937: UserWarning: Legend does not support 'b' instances.\n",
      "A proxy artist may be used instead.\n",
      "See: http://matplotlib.org/users/legend_guide.html#creating-artists-specifically-for-adding-to-the-legend-aka-proxy-artists\n",
      "  \"aka-proxy-artists\".format(orig_handle)\n",
      "f:\\anaconda\\lib\\site-packages\\matplotlib\\legend.py:937: UserWarning: Legend does not support 'e' instances.\n",
      "A proxy artist may be used instead.\n",
      "See: http://matplotlib.org/users/legend_guide.html#creating-artists-specifically-for-adding-to-the-legend-aka-proxy-artists\n",
      "  \"aka-proxy-artists\".format(orig_handle)\n"
     ]
    },
    {
     "data": {
      "image/png": "iVBORw0KGgoAAAANSUhEUgAAAXYAAAD6CAYAAAC1W2xyAAAABHNCSVQICAgIfAhkiAAAAAlwSFlzAAALEgAACxIB0t1+/AAAADl0RVh0U29mdHdhcmUAbWF0cGxvdGxpYiB2ZXJzaW9uIDIuMi4zLCBodHRwOi8vbWF0cGxvdGxpYi5vcmcvIxREBQAAIABJREFUeJztnXt8FOW9/z9PrkAukJAFRUBu3kChIhKJCQVEgtjEUytaa6w/bY+vnqqnp+fY05unrX3p6evXWttqf22l9byOR1st9uKNIIjVhBIMEi5WDiJFEAGF2YRLgiRc8vz++M4km83s7uzuMzPP7H7fr1deu9mdnXlmnpnPfOf7fL/fR0gpwTAMw2QOOX43gGEYhlELCzvDMEyGwcLOMAyTYbCwMwzDZBgs7AzDMBkGCzvDMEyGwcLOMAyTYbCwMwzDZBgs7AzDMBlGnh8braiokBMmTPBj0wzDMIGlra0tLKUMJVrOF2GfMGECNm7c6MemGYZhAosQ4n0ny7ErhmEYJsNgYWcYhskwWNgZhmEyDF987AzDMNnOqVOnsG/fPnR3dw/6bsiQIRg7dizy8/NTWjcLO8MwjA/s27cPJSUlmDBhAoQQfZ9LKdHe3o59+/Zh4sSJKa2bXTEMwzA+0N3djZEjRw4QdQAQQmDkyJG2lrxTHAm7EGK0EGJtnO/zhRAvCiHWCSHuSLk1DMMwWUS0qCf63CkJXTFCiDIATwAoirPYPQDapJTfE0I0CiGelVJ2ptUyRj9OnQJ+9jPg2LHU1zF0KHDPPUBxsbp2eYWUwJNPAtdfH8z2M8BzzwGzZwNjxviz/fvvB6qqgKuvdnUzTnzsZwDcBOD5OMvMA/AN830zgFkAXotcQAhxJ4A7AWD8+PHJtpPRgdZW4Gtfo/epWBTW/LoXXEDiGDR27ABuu43247bb/G4Nkyzd3XTe3Xcf8P3ve7/93l7a7re+5bqwJ3TFSCmPSSmPJlisCMB+830HgNE261kmpZwlpZwVCiXMiGV05OBBet2yhU7SZP/2m6fIoUP+7UM6WPtvvTLBwjDopuxX/3V00HVQUdH3kbSMnShife4UVYOnXQCGmu+LFa6X0QnDoNeIEzMpRo4cuJ6gYbU7qO3Pdvzuv3CYXk3DdsiQIWhvbx8k4lZUzJAhQ1LelKpwxzYA1QD+AGAGgDcUrZfRiXSFvbAQKC0NrjD6LQxMevjdf9Z2TWEfO3Ys9u3bB8OmPVYce6okLexCiAUApkopfx7x8RMAGoUQNQCmAmhNuUWMvoTDJMyFhamvIxTqt1yChtXuoLY/2/G7/6KEPT8/P+U49UQ4dplIKeeZr3+JEnVIKd8HcDWAdQAWSinPqGwkowmG0XdSpkwoFFyL12+Lj0kPv/sv3SfeJFDmC5dSHpBSLncw0MoEFcNI/6SsqAiuMPotDEx6WP3W0QGc8cH2jPKxuwkPcjLOYYt94CsTLKx+kxJob/dn+yUl6bkyHcLCzjgnHFYj7OFwf0x7kLAsrq4uiolmgkWkb90PP7sKw8ghLOyMM6RUZ7GfPAl0BjAx2TCA3Fx6zwOowSOy//x46lLhynQICzvjjM5OEmQVPnYgeO4M68Y2ZQr9H7T2M/73n4onXoewsDPOiArVShnr90ETxmPHqFbO1Kn0f9Daz1Cf+dl/7IphtEPViL71+6C5Mqz2WsIQtPZnO6dPA4cPAxddRP973X+qXJkOYWFnnJHtFrvVXksYgtb+bKejg8R1zBhg+HDv+6+rC+jpYR87oxmqkiuC6mO32jtlCg3ABa392U7k+etHLoWHMewACzvjFFUWe3ExxfEGTRit9o4eTcXMgtb+bCfy/PUjl0LV9eMQFnbGGeEwCXK6E0wIEcx6MZEWVxDbn+343X8s7IyWWAM/aU7ZBSCY2aeGQbM/FRUFs/3Zji4WO/vYGa1QmVwRxHoxkfsfxPZnO1Z/jRzZ339eZj+zj53REpWhWkG0eCP3P4jtz3YMAxgxAsjPp/47dSq9uXtT2X5BAdWK8QAWdsYZKrPmguijjtz/UMi/CoFMakT3n/WZV6h0ZTqAhZ1xhmqLvbOT4nqDQqQrJhSix/iODn/bxDgnuv+sz/zYvgewsDOJ6ekhIVbpYweC5c6IvLEFsf3Zjt/952GdGICFnXGC6lCtoGWfdndT5mD0o3xQ2s8MHiOxPvNj+x7Aws4kRvWIftDqxUTvf9Dan+1IqY+P3SNY2JnEZLvFHh2DHLT2ZztWZU6r/4qKgCFDvOu/nh5qA/vYGa1QnVwRNB919I1t5MiBnzN6E91/Qnibi2BNw8cWO6MVqi328nIgJyc4rozo/S8o8KdCIJMaduevlyG3HpcTAFjYGSeEwyTE5eVq1peTE6xCWnZjDEGMxc9WYvWfV+efx+UEABZ2xgmGQUKco/B0CVL2pjVX5ogR/Z8Fqf3Zjp2w+iHsbLEzWuFGckWQ6q3Y3diC1P5sx05Yvew/j+vEACzsjBPcCNUKkivDbv/ZYg8OkZU5LUIhyk3o7vZm+0Koc2U6gIWdSYwbWXNBEka7/bduTF5WCGRSI1b/Wd+5jWGQqOfmur8tExZ2JjFuWezt7cEopGXnigqFgJMnqdQCozex+s/6zovte+iGAVjYmUScOUMC7IaPPSiFtOwuzKDF4mczfvefx3ViABZ2JhHW7O5uWOyA/n72M2foGMR6lGdh159YYySAd64YFnZGK9wa0Q+KMMa6sQXlxsTE97F75YrxMIYdcCjsQojHhRDrhRD3xfi+TAjRKITYKIR4TG0TGV9xKwY3KMIeK7kkKO3PdqzKnNH9V1ZG4atu919vL7kydbPYhRDXA8iVUs4BMEkIcZ7NYrcC+K2UchaAEiHELMXtZPzCray5oPioY93YgtL+bCdW/3mV/Xz4MIm7bsIOYB6A5eb71QCqbZZpB3CxEGIEgHEAPlDSOsZ/3LLYLWHU3ZURa/+9rhDIpEa889eLXAofsk4BZ8JeBGC/+b4DwGibZf4K4FwA/wxgu7ncAIQQd5qumo0GXwzBwTrxVVvshYVAaan+whhrjEGIYCVZZSvxxoi8yKXwoU4M4EzYuwAMNd8Xx/jNdwF8SUr5fQDvALg9egEp5TIp5Swp5ayQx3cvJg0MgwS4sFD9uoOQpGS1zyrVG0kQ2p/txBNWL4VdQ4u9Df3ulxkA9tgsUwbgEiFELoBKAJyOlym4OaIfhHorhkElegsKBn8XhPZnO/GE1Yv+86FODOBM2J8DcKsQ4mEANwLYJoR4IGqZHwBYBuAogHIATyttJeMfbsbgBsGVEW//2WLXH7vKnBahEIWzupn97JMrJi/RAlLKY0KIeQCuBvBDKeVHALZGLbMBwDRXWsj4SzgMjB3rzrpDIWDzZnfWrYp4WYNBuDFlO+EwiapdyelQqD/72S3jxTCA4mIaaPcQR3HsUsrDUsrlpqgz2YTbFrth6F1IK54rqqKCasX09HjbJsY5ifrPWsbN7fswpsiZp0xspHTfx657Ia1ErhhrGUZP/O4/H+rEAA5cMUwW09lJwmuemIcPA1/8IjBsGDB+fP/fuefSa3FxkuuPTMsvLVXbdhVYNzYnwuCWu4pJD8MApk+3/86LshCGAYwZ4976Y8DCzsQmakR/5UrgT3+i8/TgwcFjTmVlAwU/UvTHjwfOOiuqJHWkME6a5P7+JEtnJ3DqVF87u7qAm28GvvY1YO5ccL2YIJBojARw3xUT68biIizsTGyiQsVaWsgqf/99ys85cADYu3fw3/vvA83NwNGjA1eXlwdMnAg8/zxw0UXQ35URFdHw2mvASy/RvjU3AzO4rIDeWJU5Y7kSrdwEt/ov0ROfi7CwM7GJEraWFqCykgQaAMaNo78rr7T/+dGjwAcfDBT8H/0IeOop4MEHoX+9lagbW3MzhbOXlgKLFwMtK0ZjYuRyjF60t8cvOe129vPx4zSwzoOnjFZECFtXF7B1a2wRt2P4cODii4ElS4AvfQn4wQ+Amhqy2K31AtDXlREl7E1NdGN7+WW6Xms/OwJGzmgWdl1xkvXpZsiqT1mnAAs7E48IH/uGDVSkrqoqvVVedx2wbRuwaxfIr1NYqK8wRux/ZyewaRP51qdNI5fMBx8IXJuzEl0fahzVk804yfp0M8nMp+QkgIWdiYdhkPAWF2PdOvKrV1amt8q6Onp98UX0F9LSVdgjLsz168llO3cufVRVBfz+90Db6em44aX/g5Mn/WsmEwMnwupmWQGfygkALOxMPKwYdiHQ0kKWql1mdjJMnkzreeEF8wOd660YBmUMFhWhuZkieubM6f+6vh5Ydv6PserQpfjCF+iJhtEIp64Yty12FnZGK8wR/d5eYP369N0wFtddRwORHR3QOy3fimgQAk1NwGWXASUlAxf5wvQ38UDFT/HUU8DXv+5PM5kYOLHYrfPPjexnFnZGS8wY4O3bKcJFlbDX15NbY+VK6O2KMeuMnDgBbNjQ74YZQCiEb8kHcffdwEMPAT/+seetZGIRDtMIfn5+7GVCIfeynw2Dth1tDXgACzsTG9NibWmhf5OJiInH5ZdTstILL0BvYTf3f8MGuvZthb2iAqKjHT/98RksXQrcey+FczIa4CSG3M2QWys5Sgj1604ACzsTG9PH3tJC5+fkyWpWm5NDg6grVwI9I0brW0jLFIbmZro2q+0mhTQrBOYe7cCTTwILFgC3304hkYzPOBF2N5PkfEpOAljYmVj09JDghkJYt47cMCoNj/p6Wn3TYTPdWkc/u3lhNjVRVnhZmc0yEcJQWAj8+c8Uu3/DDeS+YXwkGWF34/xjYWe0wzzRjSHjsHOnOv+6xVVXUTGxF969kD7QzR3T3Q10deHkiFFoaYnhhgEGCUNpKT2JjBoFXHst8O673jSXscGqxR4Pty12H2LYARZ2Jhbmib6+/XwA6oV96FBg0SLghU3n0DyKugm7KdSbTlyEEyfiCLuNj/ass4BVq+gJZ9EiqqnDeEyMOi1PPUWlLfrwwsfuAyzsjD3mid6y9xzk51Oon2rq64EPDg3BFnxCP1eMuf/NB6YAoFIItsSw+M47D2hspN265prBBdEYlzl2bEBlToAqkt56q1mnyMKt7OeTJ6nTWdgZrbCEfUcFZs4kC1s1114LCCHxAur1s9jN9jTtHIMLLwRGj46xXByLb9Ys8rlv306x+93dLrWVGYxNDLk15rFqVUTYupX9rNqwiJF1unw58Pe/q92UHSzsjD3hME4iH29uG6oszDGaUaPIxfM8rtNP2MNhnEEO/vr28NhuGIDKPQ4fHlMYrr4aeOIJKiB2yy3uzpvMRGD1R4SPu7WVXvfuBd55J2JZN0JubZKjOjuBhgZg2TK1m7KDhZ2xxzCwWVyG7m6h3L8eSX29wGbMxAe7T7u3kVQwDLyF6TjWlRtf2IGEZRFuvhn4yU9okpJ77tF7iteMwcZib20Fzj6b3q9aFbGsG2UtbCz2NWvIO3TttWo3ZQcLO2OPYaBl2FUABtZHUU19Pb2+uE2zGZQMA81iHoA4A6cWDiy+f/kX4N//HfjlL6l4GOMyUcLe20uumPp64IILooTdDVeMzY2lsZGiptw0lCxY2Bl7DAMtOTWYMMHdKRsvvBA4f+hePP/+DPc2kgqGgaaChZg4kSYTiYvDR/kf/IBmkPqv/1LTRCYOUcK6YweNp1ZW0iQpTU3AiRPoX8YtV4y5fSlJ2Bctil/hQBUs7Iwt0gijpWemJ9ZF/djNeO3wpTh2zP1tOUUaYTSfrkpsrQOOLb6cHPKzv/oqh0C6TjhMlTmHDQPQP3BaWQnU1pKor11rLhsKqc9+NgwamC0vBwC89Rb1+ZIl6jYRDxb2ANHZSRUEvRDAvR/m48DJkDfCPvXvOIX8gY/HPrP9/WFoP1PmTNgtH60D53lDA7kFnn46/TYycYiozAmQf72khJ4QP/lJinDsO9/ciGUPh0nUzdnbGxvp48WL1W0iHizsAeLFF4Ef/tCbIlMtB8nn7VZETCRV045iJMJ4/jl9Cpo376fCOI4tdocVAi+4gIqgcaEwl4lKTmptpeOek0NGfE1NhLC7UVYgavuNjcDMmf2Dt24TKGHv6AB+97vsndCgrY1en33W5Q2dOYN1nTNQXNCDiy92eVsAckdX4FN4CStWUNSADjQdno4xRUecFT5LMi29oQHYsgV4++3U28ckIEJYT5wgV0jk7F+LF9MUjR98AHfKCkSUE+jooIngvXLDAAET9pdfJh9lthZX2rSJXpubKYvONQ4fRgvmoHLCQeTlubgdi1AI9XgBR47mYN06D7aXAHn6DJpPVmLuhL3OCp8lafF99rP0hO6H1f7xx1kSbhlRJ2bTJuD06YHCXltLr6tXwz1hN9e7ejUZo16EOVoEStivuYYuiBdf9Lsl3tPbSydodTW9//Of3dtW154wtmIGqqZ5NJoZCmERVqOwoBfPP+/NJuPx3qYjOIBzMHdqu7MfJOmjHTWKhOW3v/X26fODDyiD9ne/826bvhEhrJEDpxbTpgHnnGO6Y9zysZvbb2wERo4kV5BXBErYy8pI2LJR2HftokHT224Dzj/fXXfMhr+eRC9yUTXLoxmaKypQjOO46uJDeP55/y3K5lco93/u5ScSLGmSgsXX0ADs20dPX17xi18AXV39A3kZi1mZ0+qX1lZg/HgqzmYhBN1cX3kFOF1aTs53VT723l6gvb1vWsmVK8n1Y46jekKghB2gCRr+9reoCm1ZgOWGuewyYOlS4PXXgUOH3NlWS2suBHpxRY0HAbdA3wVYf+G72L0b+N//9WazsWham4sKGJh6aaGzH6Qg7NddR/WnnnwyhQamwIkTwK9/Te/7wvwylagY8tbWgda6RW0tcOQI8GZbDpnUqiz2w4epdkRFBTZupPuFl/51IKDCDmSf1d7WRmVJpk0jYe/tBZ57zp1ttfytBNOwDSMmlbuzgWjMR+G6c+ju5bc7pnlzCWqwFiLksJZ2URHFTCdh8Q0bBnzmM8Af/hCRKOMiTz9NRuSnP00umb173d+mb0TUiTl0CNizB5g9e/BiCxeSob5qFdQmKUXcWBob+58OvMSRsAshHhdCrBdC3JdguV8IIerUNM2e88+nv2wU9unTSdynTwemTHHHHdPbC6zfFUIVWrybJKCwECgpwZie3bj8cnMuVJ/44ANg96EizEWz85KrQqRUb6ShgdxrL72UQkOTQErg0UdpZqf/+A/6LKOt9ghhtQp/2Vns5eXk9+7zs6sS9og6MY2NwBVX0AOBlyQUdiHE9QBypZRzAEwSQpwXY7kaAGdJKV2X3Lo6ckW4MbG4jkhJrpiZM+l/Ichqf+019SUutm8HjnQPRdWQzSS4XmFmb9bX06PzRx95t+lILMGbi+bkbmwpWHzz51O5BrfdMX/9K4VX3nMPGQUlJdkj7Bs2kG871nwCixfT4GrH8InqLiZz+wdzzsabb3rvhgGcWezzACw3368GMGhKXyFEPoBfA9gjhLjObiVCiDuFEBuFEBuNNO+MdXWUD7J6dVqrCQy7d5MvMPLkXLqU3Hiqo2NaWui1KrRT7YoTYQrjdebZ47YVG4vmZqC04ARmlO6hxyOnpCDsubnA5z5Hg2tuzjPy6KMUeHDLLbTNqioS+4wlymK/5JK+ygKDqK2lp9Q1J65U7op5+S0qsuRlmKOFE2EvArDffN8BwG7Kgc8D+F8APwQwWwhxT/QCUsplUspZUspZoTRnFbnySjpRs8UdYyUmRQr7Jz4BTJ5MPlqVtLQAFflHMOXs42pXnAhTGC++GJgwwT8/e1MTUF3xDnJDSY4vpFghsKGBYqyXL0+8bCrs20flgr/wBRoKACjrcts28rlnJOEwkJuL3tIR2LDB3g1jcfnlwIgRwKrwTDogKgrmm8Le2DICZ59N16rXOBH2LgDW/DnFMX5zKYBlUsqPADwFYL6a5tmTl0cx7StWZMfEBZs2UUW4yCxQIYAbbqCCUiov0JYWoGroFucDh6owfZxCUGnVNWuA4x7fWw4dogkY5g5rS35KsxR9tDNmkEXpljvml78kV95dd/V/Zk3zZz2dZRyGAYwciXf/noOjR+0HTi3y8mgylJd3XwApJaWJpks4jNNFw7FqTS6uuQbOktwU40TY29DvfpkBYI/NMn8HYBXUngXA9WDEujq6MVuDI5lMWxuJerTL23LHqIqOCYeBd98FDZx6PVejZfFK2TeN3Jo13jZhgH892f1Po0JgQwPwxhvqp0zr7qbZeurq6CnI4vLLyVDIWD+7mZwUb+A0ktpa4MDRYmzDNDU+McPA+tJaHD3qj38dcCbszwG4VQjxMIAbAWwTQjwQtczjAOYLIZoBfBnAQ2qbOZjFi+lum+nuGClJ2O0Gf2bOpPreqtwxlgV35cev+CPsPT1AVxdqami2Oa/dMc3N5Iu97HiKwg6kZLV/7nNk1f32t0n/NC7PPEM69c//PPDzoUNJ3LNB2K2KjvGwQhFXoVaNn90w0CivQV4ehVT6QUJhl1IeAw2gvgFgvpRyq5TyvqhlOqWUS6WUc6WUc6SU++3WpZIRI+iRMtOFfe9eejq0ImIisaJj1qxR8wTZ0gLk50tcdvoNf4QdAAwD+flk6bz0kreutqYmYM4ciYL2D5MP9UyjQuDYsRQh89RT6rJupQQeeYTyHubbOEZrashg+PhjNdvTCrNOzIYNdANLlPE5diwwdVI3XsZidcJ+fC6qq8lA8QNHcexSysNSyuWmD10b6upoEGj3br9b4h52A6eR3HADDb6psG5bWoCZ03owFN3exbBbRNXruM6c39orV9vhw1QBcG5lD4VcpeJjB1IWhoYGcsWo2t+WFmDzZgpxtPPxVldTJc2MLKhnGDhRNgZbtyZ2w1gsXngKa1GDj/cfTnvz+z7Kw1udk3xzwwABzDyNJBuyUDdtIovjkkvsv581i/yn6SYrnTwJvPkmUHWheWL7ZbGbFq/lavPKHbNuHVm5fYW/PHTFAMD111PyqqqKj48+Sk+1DQ3231t19jMu7PHMGaCjA5tPX4LTp+MPnEZSW1eIHgxB08ai9LYvJRoNqvbFwp4iU6bQxAWZLOxtbfQ4PXSo/fdWdMyaNWR1psqWLTTYVjXBnLPNR1cMQI+w8+Z5l4Xa3Exh65Xn7BvYHqekKezDh1M00DPPpF+Tfv9+GneJDHGMpqyMBuQzzs/e3g5IidYjFwBwbrHXXFWAITjRF3ueMsePo/H01Th3xFFMnZreqtIh0MIOkNXe1OTNdHFeE2/gNJIbbiAxSEcE+xKTRpmhGT4LO0DumHfeoUgdt2lqIutuaJe5/WRdUWVlaVcIvPVW0qWXX055FQCAX/2Kkm6+/OX4y9XUUL+fPp3e9rTCPP6tH43HuHHOZywaOhSYN3QDVr1nm1jvmJ59BtZgIZZ84oAvYY4WGSHsp05Bq/kyVbF/P+mc3cBpJLNnU1nSdNwx69aRS2fMabM6lNc+9uJiMpkjhN1ytblttXd10Q107lwMqgzomJz0KwTW1tIq0nHHdHcDjz1Gx27SpPjL1tTQvr/1Vurb0w7z+G/YPcqxtW5RG9qEHZ1j0qocu/bVkziOYiyp8dfSDLywV1VlbhZqooFTC8sds3o1cPRo8tuR0kxMqgJdGAUFFCfmJUIMyt4891xK4HFb2NevJ9dsWsJu/SYNYc/Pp9mVXnghtX4EKIPVMGjQNBHVZnZKRrljDAMGKrD7o6HJC/tEejRMx0hsXFOAQnRj/nwfzXVkgLDn5dEgRWNj5mWhtrWRIThjRuJlly5N3R2zdy9w4IAp7NbML348R9oI43XX0dOEm7VUmpv7a6ggHKZMsFjO6XikWFYgkltvJav7j39M/rdWiONFFwFXXZV4+XHj6OaZUcIeDqMVpOjJCvuFE3swLnd/Wq6wxjfKMQ+vo2icRyWvYxB4YQfosbO9nSyvTGLTJrpIYxUwimT2bIrHTcUd0+dftyx2r/3rFjbCXl9P/uIVK9zbbFMTubtKStC//6nc2BTU9J49m4ICUnHHvPEGGQOxQhztqKmhyBi/Z61ShmGgFZXIzZUJXZjRiFEhLJYv49VXZUoD2Lt2ATs+Go4laPTvGjLJCGHP1CxUJwOnFjk55I5ZtSr5x/iWFjJQL7kEA2ZX9xybeiszZ9LclG65Y7q7KXZ87lzzg3RubApqegtBIYqvv0614ZPhkUcouubWW53/prqaJkZXXc7ANwwDrXlX4uKLRfIPXRUVqO1txLFjIqV8AmvKwSV5rwClpcmvQCEZIezDh9OFmUnCfuAA1SR3KuwAuWNOnky+5G1LCz225uXBf4s9ypVhFQVbtYpEWDUbNtAxUyLsoZCSCoENDWRBJzPp9IEDFOJ4xx00Du0UqyBYpsSz9x4K483ey5J2wwAAQiFchVeRmytTcsc0NgLnl36EKaOO+ePKjCAjhB0gd8z27fQ4lAlYc5wm8zh5xRVk3SbjjunqArZu7U9YiZxd3XNCIYpbjSqkVV9PlR7/8hf1m2xupmvQEjgrHT0lQiFS5HQSCkDlmOfMoYqPTl0kv/oV3U8iqzg64cILaSahTPGz79xbiCO9w1MW9hE4iiumdSU9gPrxxzTxzZKRrf498UaQUcIOZI7V3tZGgpNMLeecHJpH8+WXncf1b9hAglBVBRLUY8f8FXZgkNU+fz5ZoW64Y5qayAVVVmZ+kK7Fbq0jTRoaqFyGk1DEnh4Kcbz2WropJENODrljMkXYW/edAyD5gVMAff1Xe8kBtLUl142vvUb9sKTwVd/960AGCfvkyTTQmEnCfuGFyT1WA+SO6elxPthoDZxecQUGTALsC9Z2o4S9sJDGUV58kQZSVXHqFO1/nxump4dK76bjYweUCPtNN5FrzEmd9uXLqZa8kxBHO2pqyMfu13SEKmltn4LivO6EFR1tMfuvduK7kBJ45RXnP21spCCHuadY2JVTV0eP1qnGAOtE5BynyVBVRdl2Tt0xLS1UsmDECKQXw62COBZvfT35ka3YfhVs2kSP0AP865HtSBaFFvvIkRTG+7vfJXbZP/ooGQFXX53atqx49sD72aVE64lLcPmY/QkrOtpi9t9lxTtQXu48nl1KEvaFC4HC8H4WdtXU1VF6dLop2X5z8CBlnSZODmixAAAfxklEQVQzcGphuWNWriT/eTx6eylEtKrK/CBidnVfiCOMS5ZQrLlKd0xzM732CXu6TyxplO61o6EB+PBDesyPRWsrFW+7++7Ux+tmzqSU+qC7Y7qNTmyV01E5OcXjX1wMFBYit/0QFi2ihD8nYxzvvAPs2QMsWXSarEr2satlzhyydILujrGs0lQsdoDcMd3diaNj3nmHJsnuE3aNLfaRI8myVCnsTU1URG60NYtvuvuv0BUDkKFSWho/pv2RR2iZz38+9e0UFJBPOugW++amYziNfFRenOKcilb2s2GgtpZcU07GOKwwx2tmp1gZ1AUySthzc/uzUINc2MiKiLn00tR+f+WVwFlnJZ5Zad26/uUB9AuSXxZHWRldXDEs3vp6utB27kx/U2fOkJD1WetA+sJeUEAqq0jYhwyhm/Qf/2g/IcaHH5LL7fbb068AUVNDFT6DXEyvdR1d9JWz08i2qqgAwmEsWkT/Onn6X7GCBuDHFx6kD1jY1VNXR9FmQZ6ot60NOP/81HMccnPJHdPYGH9C6JYWOo+nTDE/MAwS1nKf0qFzc+MW0vrMZ8hlsGBB+hNS/O1v9NSsVNit3yoSdoDcMV1d9nXpH3uMDJi7705/OzU15Jp744301+UXrZvyMRYf4OwL0kgOMvtvzBhg+vTEfvZjx8iFtWQJ/H/ijSDjhL22loopBdkdk+rAaSQ33ACcOBE/OsYq/NXnmw2HSVhTGnlSRBxhPPdcesrIzydBfuyx1FPhLf/6Jz8Z8WE4TIMUfbGPKaCgXkwkc+dSTZdod8zJkxS7fs01ETfmNLjiCtr1IPvZW7eXohJpxpFHnH+1tfRUF2+sas0aurkOEHb2sauntJQu1qAKezhMRblSGTiNpKaGfMex3DHhMNU57/OvA/5mnVoksHgvvRTYuJGs9i99iTItT5xIfjNNTVSmeNy4iA8Ng25sOWlcFoot9pwc4JZbyHI8eLD/82efpf+jJ6pOlZISOrZBFXbDAHaHS0jYFT1x1dZSSGy8wevGRsp8nzMHbLG7TV0dsGOHGl+s1zgt1ZuI3Fyabm3FCnv/rFUwbZCw+21tmD7OeJSX08Dwd74D/Pd/06Dqnj3ONyElWewD3DCAmhubgnox0TQ00JjA73/f/9mjj5K7LtUQRztqasjFdfKkunV6hTV3a2XB5tQqc1pUVFAuQ08PqqspNj2WO8YKc1y0iJ4iEQ7T4+/IkalvXxEZK+xAMK32dAdOI1m6lETdGrWPpKWFEmBmzYr4MAAWu0VuLnD//dTHu3bRjdBp3PE779A16IqwW+1XWC5x2jQ6Hyx3zIYNJMD33JPew0U01dUUTaUyV8ArWluBHNGLy0IfpFenJSJktbCQsp5jnVdbt9IAdt/cpoZBVoefrkyTjBT2iRPpYgiisLe1URbtiBHpr6umhs5Tu2Sldev645f78LNOjIVVSMthiumnPkWumXPOIX/zgw8m/qmtfx1Ir06MRShEJm+iJIIkaWigePUdO8haLykBbrtN6SYCnajU2gpcXPw+ikalORl1VMhtbS1l5drVoLIMpsWL0f8bv594TTJS2AGy2teuTbsek+ckU6o3EXl59u6YkydJJPrCHAFSw/Z2PYS9txfo6HD8kylTyLV0883AffcBn/50/OzjpibKzh1UV0WVxW6tSyGf/SxZ5w89RC4ZFSGO0YweDZx3XvD87L299BRTOWSr8v6rraV/7az2FSvoWj3rLPMDHQwjk4wW9jNngpWF2tFBvuJ0I2IiWbqUQh4jj8OWLfTIPcC/3tFBV4jfFkeMejGJKCoiV8Ujj5AlNWsW8Pbbg5eL9K8PeGI/c0bNjU1xkpLFmDE0K9JvfkMDeslWcXSKNfGGypo8brNzJyXaVco31PWfef6ddx55AKKFvb2dQkOvvTbiQx1cmSYZK+yVldRHQXLHWP51VRY7QO6GioqB7pgBMyZZ6DKin4bFKwT5nV97jTwhlZXAM88MXGb3birXMMi/3tFBqq+pxQ70T6BxzTU0cOoGNTX0lLt9uzvrd4O+gdPjf1Hef0KQ1f6XvwwcVF69mm5+ff516zd+Xz8mGSvsubl0N125EilNc+UH6ZYSsCMvj1wTL73UHxbY0kIx4WPGRCzod50YCwXCWF3dnwtw883AV7/afw7E9a8DanzsketTyKc/TaL+3e8qX3UfQZzgurUVKC6WuOhEW/r9V15OPq+I86+2lgyFyKTHxkbaVF/wgeXK9PuJ1yRjhR0gd8yRI/2p87qzaRPFVqtO/Fy6lE7MVavIKF23LspaBzLCYo/k7LPJyvrKV4Cf/pTcGB99RP71kSOpxPMAVO2/ixZ7cTEJSkq1xh0yeTL5jIMm7JdP70EuetPvv5ycQdnPCxaQgWS5YywX7+LFEQEwR47QF35fPyYZLeyLFlH5jqC4Y1QOnEYybx6dq88+S8lPBw7EEXa/LY4Ufex25OeTqP/2txQ5M3MmCWNNjU2YoCphLyqiAvIuCLsXWLNJBSUyprubwg5nn2+OlqsQ1qhcitJSul4sYd+4kb4e5IZRtX0FZLSwl5SQqAVB2I8coZAqlW4Yi/x84B/+gY6DNb3cgIgYQJ8Ts7CQOk6hMH7uczTQNWwYTUgxyL8OqNv/iAqBQaW6mgyAvXv9bkliNm8mN1vl+A/pAxXnr03/1dbStg4eJOMgJwd9hcIA6GMYmWS0sAPkjtm5k+J/dWbzZnp1w2IHyB3T2Ulx3kVFVI1uAOEwCWphoTsNSAYXhHH6dLK0fvQjKkMwCMtCU5E1qLhejNcEaYLrvoHTUbvpjQphjSHsAA2arlhBtXUGnCq6GEYmjoRdCPG4EGK9EOK+BMuNFkJsVtM0NQQlC9WNgdNIFiwg3/2uXeSjzcuLWkCjEX23LN4RI4B776XaHoMwDHrmVnFjC7jFPn063eOD4GdvbQXGjgXGnDYfL1yy2C+9lD5+4gm6VgeEOQL6BB+YJBR2IcT1AHKllHMATBJCnBdn8YcADI3zveecey5Zp7oL+6ZNVJDKrfPCcscANv51QKusOSf1YpSj8sbmQr0YL8nNpXMkKMJeWQk63rm56VXmtKiooPDXiDkJLdfLq6/S/wP860AgXTHzACw3368GUG23kBBiAYDjALSbEreujiJBkkhm9By3Bk4juflmep0/3+bLLLDY46Jy/wNusQPkjtm2Te9rxjCA994DZs+GmsqcFlb2c1TauuWOOftsYMYMm8YUFUXV6PAPJ0ehCMB+830HgNHRCwghCgD8B4BvxFqJEOJOIcRGIcRGw+OT3spCXbnS08065tgxKqHrtrAvXEgFsBYssPlSo3RoNwppJURFnRiLUKivQmBQseLZdQ4V7vOvV0J9/wGDbs7WYOmSJTZ1xnQyjOBM2LvQ714pjvGbbwD4hZTySKyVSCmXSSlnSSlnhTw+ALNnA6NG6euO2bKFXt3yr0dywQU2H0qp14kZCpEoKi6kFRfVFjsQ6AHU2bPJfaezO2bDBjLQL7sM7vRflLCPHk1z7t5/v81vdDKM4EzY29DvfpkBYI/NMgsB3CWEeB3AJ4QQv1HSOkXk5NBgx8sv65mFqqoGe8p0dZGQauIfVBnL7gjVNzaX6sV4ydChwOWX6x0Z09oKXHwxJW650n82519dHVUSHYROhhGcCftzAG4VQjwM4EYA24QQD0QuIKWcK6WcJ6WcB2CLlPKL6puaHnV1VPFPRwukrY1OltGDnFweoVmolpvZm7Z0dlIhEJctvqBRXU0hoqnMUOU2UpoVHa0sXA8s9rjoFHwAB8IupTwGGkB9A8B8KeVWKWXMsEdT3LXj6qv1zUJVMcdpWmgWquW5MKqqE2ORAa4YgAZQT53q92XrxM6dNLY5ezZoAK2jQ13/JfvEpZsrEw7j2KWUh6WUy6WU2kW8OKW4mAYNX3zR2zG5RHR10YCmb24YgC121fufIRa7FRar41Nuayu9VlZCXWVOi8JCymlw2n8ff0y1DXS5fpAFmaeR1NVRgk68yWm9ZssWOie1EHZdHiW99rGrFvayskEVAoNIeTn5sHUU9g0byFibOhXuGCbJ5FLoZhghy4S9oYEK599yC81VqANWDXZfXTG6nZglJeQ389piV3Vjs6kQGFRqaqhc7enTfrdkIK2tVDI3NxfuGCbJ5CLoZhghy4S9tBT44x9pEPXGG/WIkGlrozKpA2qje004TEKqeq61VPG6kJYbYwwBrxdjUV1N7sK33vK7Jf10d9OTbt/AqVv9l6yw62IYIcuEHaDyAr/+NYVxff3rfreGhN1Xax3oH/hJZ3Z31Xgp7IZBftXiYnXrzIDsU0DPgmBbtpgVHSMjYgD/hF234ANkobAD5Iq56y7gJz8Bli9PvLxbfPwxTUHmq38d0C5UC4C39WLcuLEFvF6MxbhxVG9JJz+7NXA6e7b5gRuuEOv8cxJpwRa7Pjz8MJXevOMO/+Z33LqVSlJoIewanZQAvLfYVd/YMsRiB8gds3atPtFkra2U99GXKGRV5iwoULeRZLKfDYPSdEtL1W0/TbJW2AsKaEahYcOA66+nHBWvcbtUr2M0S4cG4L2PXfX+h0KDKgQGlZoammBi1y6/W0IMSEwC3Os/wNk5aBkGGrkys1bYAarj/MwzVIDri1/03iLZtInOn7Fjvd3uIHS12I8dGzg1vFu4sf8xKgQGEZ0muA6H++cU6MOt/rPW7aRRml0/WS3sACUtPfgg+dp/9jNvt22V6vX1Rt/TQwKqo48d8MbP7oYwZEC9GIuLLqKYdh2EfUBFRws3+8/J+aehYZT1wg5QdMx11wFf+5p3o//d3VTvWgs3DKDdielZ9mZPD/nh3PCxAxkh7Dk5ZLXrEBnT2hpR0dHCrTESa92J0DD4gIUdZDE/8QQwYQLFt3/kQeGEt94i96vvA6fZLuxu7X+G1IuxqK6m+ixeXBvxaG0Fpk2LiEyVUg8fu2bXDwu7yfDhlLx05Ahw003uJy/5XqrXQsNQLQDeCaNb+59BFjvQH8/u5cQb3d1UR2nFCuDRR4GvfpW2P8ANo7oyp0VxMeU2JDr/Tp2ijEfNrp/oKY2zmunTgWXLgFtvBb75TeChh9zb1qZN5LccP969bThCw3RoAN75qN0SdmsK+wwR9pkzqUb72rXAZz6jZp1WUcT33qMB0ffe6//btQvYv3/g8sOGAZMnU2mQPtzqPyGc5SJo+sTLwh5FQwOwfj3w4x9TnPsNN7izHS0GTgF9Lfbycjo4Xgm76htbshUCNaeggCzlZAdQT5wA9uwBdu8mwbZeLSE/fnzg8mPGAJMm0TSOkybR3+TJ9DpqVIwp6QB3DBMnIbeaGkYs7DY8/DAJ7+23U3W7Cy9Uu/6eHuDtt4F/+ze1602JcJiulvJyv1sykNxcbwppuWlxZUi9GIuaGoog6+zsLyvU2wscODBQtCNfDxwYuI4hQ/oFe8GCgeI9YUIKc0G73X9OhV0zw4iF3YbCQkpemjmTkpesEqGqePttcs35HhED9M/unpvrd0sG44UwGgaFWbhxY8ug7FOABlB7e4HPf5783++9R9Z4ZKqBEJSXMWkSTf48aRIwcWL/61lnKX5KdVNYQyHayXiwKyZYjBtHyUuLFlHy0tNPqzshtRk4BbQM1erDi3or1o0tx4U4gooKYN8+9ev1iaoqmr7x9ddJqKdPpzDhSPEeP54MI89wU9idnH9ssQePq64CHngA+Na3gDlzgK98Rc1629qAESPoYvAdDUO1+giFKCzCTdy8sYVCwObN7qzbB4qLybXixj0wZazKnEVF6tdtZT/39MS+W1nCrpkrU6cu0pKvfx2orwfuvVddqJc1x6nvA6eAlunQfXjhynBz/y1Xki7VsxSglagD/f3nxsXkJOTWMEjU8/SykXXrJu3IyaHkpXPPpeSlgwfTW9/Jk5ScpIUbBtDfYm9vJ8euW7i5/8lUCGRSw+3+A+ILu6aGEQu7A0aMAP70J6rndOONlIGXKtu2kbhrMXDa20vCqbOP3e1CWm4KQwbVi9EWv/tPU8OIhd0hVvLS2rXA+ecDF1xA4YqvvZZclqo1x6kWFntHBwmnhicmAPezN8+ccffGlmHZp1ri9hiJtQ0/tp8GLOxJ0NBA0U8//zlFAPz85xSLW1FBlvz//E/ia7itjfJWJk/2ps1x0TRUqw+3hfHwYfJ/+/koz6SH22MkAFvs2cCECTSt3sqVZOw99xyJ+l//Ctx2G4WDVVUB//mf5EuPHjdrawMuvVSTQShNQ7X6cFsY3d5/ttjdxarM6Vb/lZXRhRrr/LNcmRpePzrIS2ApLqY43l//msKVN24Evvc94PRp4NvfBmbMoEHXL3+ZChl1dtJ0eFq4YQBt06H7cNtH7baws4/dXdzuv9xciniJ1X9HjpA7j4U9c7FqRH/nO5SpeuAA8PjjwKxZ5KL51KfoOu/p0VDYNTwxAbhv8bp9Y7MqBLKwu4MXhkm8kFuNDSO9gi8ziLPPpomy77iDxLypCXjpJSonsHCh360z0d3HXlhIRUncEka391+IjKsXoxVenL9OhF3D64eF3QMKC6k0waJFfrckCsMg4fQ0BzxJ3BRGvy0+Jj28ENZQCNi+3f47jQ0jdsVkM5qGag3AzXoxhkEhSm7e2Lyod5OteCHs8fpPY4udhT2b0TRUawBuWrxe3NjYYncPqzJnWZl724iX/ayxj52FPZvRNB16AG4Koxf7zz529wiH3avMaREKkah3dAz+zjCo+FjSReTdx9EREUI8LoRYL4S4L8b3w4UQK4UQq4UQfxZCFKhtJuMKQbHY3Sqk5cX+R1YIZNTiVf8B9jdnjQ2jhMIuhLgeQK6Ucg6ASUKI82wWuwXAw1LKRQA+ArBYbTMZ5VgTTmr4GDmAigqa1SF6DjUVeCEM1vFlq109Xvaf3VOjxtePE4t9HoDl5vvVAKqjF5BS/kJK+Yr5bwjAoehlhBB3CiE2CiE2Guxz9J+uLrIiNbU4+nArlt2rGxtnn7qH3/2n8ROvE2EvAmDNF94BYHSsBYUQcwCUSSnfiP5OSrlMSjlLSjkrpOnByCo0DtUagFvC2NVFZTb9fJRn0sOrMRIgcMLuJI69C4A1OlCMGDcDIUQ5gEcBfEZN0xhX0ThUawBuCaNX+88WuztYlTn9dKUF2ccOoA397pcZAPZEL2AOlj4L4JtSyveVtY5xD41DtQbgVr0Vr/af68W4Q0cHudPc7r9Y2c/HjwMnTmh7/TgR9ucA3CqEeBjAjQC2CSEeiFrmCwBmAvi2EOJ1IcRNitvJqCZoFrtbwu72/peXUzgeC7tavDx/7UJuNb9+ErpipJTHhBDzAFwN4IdSyo8AbI1a5pcAfulKCxl3CIqPvaQEKChQL4xe7X9ODsVas49dLV6ev3bCrvn146hWjJTyMPojY5hMwDBIMEtK/G5JfNwqpOW3xcekh9f9t3//wM80t9g58zRbsULF3JjdXTVu1FuxbmzFxWrXawfXi1GPl2NEdv2n+RgVC3u2onGo1iDcsHit/ffixsYWu3q8FFar/yKzn9liZ7RE41CtQbjhivFy/7lejHrCYfcrc1qEQpTM19U1cPv5+cDw4e5vPwVY2LMVtti9FfZYFQKZ1PC6/4CBN2fNXZks7NmKxnUuBlFRARw9SpmiqvBy/ysqYlcIZFLD6/6ztunH9lOAhT0b6emhioNBstgBte4MPyw+9rOrw+/+0/yJl4U9G2lvp1eNT8wBqBb2nh6gs9PfR3kmPbweI7G26cf2U4CFPRvRfER/EKotXq+TS9hiV4tVmZMt9piwsGcjmsfgDkJ1vRWv95/rxails5PGW7zqv+LigdnPp04BR45off2wsGcj2W6xe73/LOxq8br/rOxna7ualxMAWNizkwCcmAMoL6eLS5WP2uv9LyykmGv2savBj/M3MhchANcPC3s2YhgklOXlfrfEGbm5VEgrqBa7tS222NXgd/8F4ImXhT0bMQwS9dxcv1viHJX1VqwbW1mZmvU5gevFqMOPMaLI/gvAGBULezai+Yi+LSotXsOgJwAvb2xssauDLfaEsLBnI5rH4Nqist6KH/vP9WLUEQ7TuIUXlTktQiFK6jt5sr8fR470bvtJwsKejbDF7o+wR1cIZFLDy8qcFpFJSpYrM8/RdBa+wMKejWhe58KWigp1hbT82P+KisEVApnU8Kv/rG0H4PphYc82enu9md1dNaEQzUx/+HD66/LLYre2zaSH3/0XgCdeFvZs4/BhEnfNT8xBqKq3cuYMVVn0SxjYz54+fo2RWNsOwBgVC3u2EYARfVtUWbx+3djYYlcHW+wJYWHPNgIQg2uLqrR8v/afywqowarM6XX/lZXRYO2hQ2Sxa379sLBnG9lusfu1/2yxq8Gv/rOyn3fuJHee5tcPC3u2EYA6F7ao8lH7tf/FxRR7zT729PDz/A2FgO3b/dt+ErCwZxtBdcUUFgIlJcG12KMrBDKp4ecTZygE7Njh3/aTgIU92zAMsh6HDPG7Jcmjot6Knzc2rheTPn73X0+Pf9tPAhb2bCMAI/oxUWHxGgZZ/oWFatqUDGyxp4/fFrvdew1hYc82AhCDGxMV9Vb83H+uF5M+4TCQk+NPyWkWdkZbApAOHRNVrhi/Lkp2xaSPVZkzxwfpsq6boiJg6FDvt58ELOzZRia4YtIppOXnjc2qEGj5aZnk8bv/gEAYRizs2YTXs7urJhQCuruB48dTX4ef+89lBdJHh/4LwPXjSNiFEI8LIdYLIe5LZxnGZ44fJ2sxACemLekKo5T++9gBFvZ00KH/AnD9JBR2IcT1AHKllHMATBJCnJfKMowGBDWG3SLdtPyuLn9vbFxWIH38HiOJfNUYJ5Xi5wFYbr5fDaAawM4UlkmfVauAf/1X5avNGrq76TUAFoctVruXLqUBrGQ5dYpe/fbR3n47UFrqTxuCjp91WgJksTsR9iIA+833HQBmprKMEOJOAHcCwPjx45NuKAC6GKZOTe23DFFTA1RX+92K1PjEJ4B//Mf0arJXVgK1teralAznnQfcdRdw8KA/288ELrkEuPFGf7ZdWAj86EfAokX+bD8JnAh7FwArtqcY9u6bhMtIKZcBWAYAs2bNSi2sYc4c4NlnU/opkwEMGQIsW+Z3K1InLw/4+c/9bgWTDvfe63cLHOFk8LQN5FoBgBkA9qS4DMMwDOMBTiz25wCsFUKMAXANgM8KIR6QUt4XZ5kr1DeVYRiGcUJCi11KeQw0OPoGgPlSyq1Rom63zFH1TWUYhmGc4MRih5TyMPqjXlJehmEYhnEfzjxlGIbJMFjYGYZhMgwWdoZhmAyDhZ1hGCbDEDKdEqipblQIA8D7Kf68AoDOVZR0bx+gfxu5fenB7UsPndt3rpQyYU0DX4Q9HYQQG6WUs/xuRyx0bx+gfxu5fenB7UsP3dvnBHbFMAzDZBgs7AzDMBlGEIVd9ypQurcP0L+N3L704Palh+7tS0jgfOwMwzBMfIJosTMMwzBxYGFPASHEcCHESiHEaiHEn4UQBTbL5Akh9gohXjf/LvGjrToihPiniOOyRQjxmM0yfPxiIIQYLYRYa74fbx6fvwghlgkhRIzfnCOE2BdxPPWfBsgloo7f/RHH5B0hxDdj/CZYx09KqeUfgMcBrAdwXzrLuNS2LwO42nz/SwD1NsvMBPB/fTp2eQD2Anjd/LskxnL3A3gTwP/zsZ8fBTBLs+M3GsBa830+gBcBrANwR5zfOFpOQdvKALwMYJP5/4MALjLfrwQwPcbvrgfwTz4cv3MA7Is4F0Nxfuf69Rx9/KK++wOAc/w+fir+tLTYdZ9AW0r5CynlK+a/IQCHbBa7AsCnhBAbhBCPCyEcVdJUxHQAT0sp55l/f4teQAhxGWhylNkADgkhFnrYPqsN5wAYLaXcaPO1L8dPCFEG4AnQdI8AcA+ANinllQBuEEKUxPip0+XS5QyAmwAcAwAp5bellNvN70YidmLNFQC+KITYJIT4T5faZnf8KgE8GHEu2s7k7eH1POD4RWz/cgD7pJT7bX/l0fFThZbCDvvJsVNZxlWEEHMAlEkp37D5+k0AC6WUs0HW3BIPm+ZEFD8J4I+SzJFVAGo8bJ/FXaAnHjv8On7RF/489J9nzQBiJa44XS4tpJTHpM18B0KImwBsk1IeiPHTlWYbLwcwRwgx3Y32YfDxcyqI8+DB9Rzr+AH4CujpMRZeHT8l6Crs0ZNjj05xGdcQQpSDToQ7YizylpTyQ/P9RgCePVHAmSj6ffxyAMwHPZ7b4cvxs7nwnR4n346nEGISgHsB/EucxVqklJ1SyjMANsOl42lz/JwKop/HbwSAUVLKXXEW8+T4qUJXYVcygbZbmIOlzwL4ppQyVs2bJ4UQM4QQuQD+AcBWr9oHZ6Lo2/EzqQHQaj4x2OHn8YvE6XHy5Xiaro+nQX79eDOXrRJCnC2EGAZgEYC3vWgfnAuin+fjdQAaEyzj1/FLCV2FXfcJtL8AGtz7tjlC/l0hxANRy3wfwJMAtgBYL6Vc42H7nIii3xOQ14JcFhBCTNXs+EXi9Dj5dTy/AWA8gEfNc/GTQogFQoi7o5a7H8BroOkrfyWl3OFR+5wKop/nY9+5CACaHb/U8Hv01u4PQClIjB4GsB3U0Q8kWGa43+3W5Q/AxQDeAvA3UNREOYDfRC2TA4rg+BmAHQAm+t1unf4AvG6+ngtgm3mc3gSQC2ABgLujlh+0nN/7oMnxmw/gHfN8vNv8bCpfz+7+aZt5aj5iXg2gWUr5UarLMLERQgwFcC0o9Os9v9ujK0KIMSBrcpWM4+5wuhxjD1/P6tBW2BmGYZjU0NXHzjAMw6QICzvDMEyGwcLOMAyTYbCwMwzDZBgs7AzDMBnG/wdupB2lO2XxOAAAAABJRU5ErkJggg==",
      "text/plain": [
       "<Figure size 432x288 with 1 Axes>"
      ]
     },
     "metadata": {
      "needs_background": "light"
     },
     "output_type": "display_data"
    }
   ],
   "source": [
    "# 构建函数后进行预测\n",
    "w = res_1.x\n",
    "\n",
    "\n",
    "x_pre = sigmoid(X_test  * w)\n",
    "\n",
    "\n",
    "plt.plot(label_test,color = 'red')\n",
    "plt.plot(x_pre,color = 'blue')\n",
    "plt.legend('label_test','x_pre')\n",
    "plt.show()"
   ]
  },
  {
   "cell_type": "markdown",
   "metadata": {},
   "source": [
    "使用线性的数据进行logistic回归"
   ]
  },
  {
   "cell_type": "code",
   "execution_count": 82,
   "metadata": {},
   "outputs": [],
   "source": [
    "# 构建数据\n",
    "data_x = np.linspace(-1,1,N).reshape(-1,1)\n",
    "data_y = np.zeros(N)\n",
    "\n",
    "num = 0.6 #取80%数据为训练数据\n",
    "\n",
    "data_y[:N//3] = 1\n",
    "data_y[N//3:] = 0\n",
    "\n",
    "data_train = data_x[:int(100*num)]\n",
    "data_train_label = data_y[:int(100*num)]\n",
    "\n",
    "data_test = data_x[int(100*num):]\n",
    "data_test_label = data_y[int(100*num):]"
   ]
  },
  {
   "cell_type": "markdown",
   "metadata": {},
   "source": [
    "使用sklearn库进行预测"
   ]
  },
  {
   "cell_type": "code",
   "execution_count": 83,
   "metadata": {},
   "outputs": [
    {
     "name": "stdout",
     "output_type": "stream",
     "text": [
      "[0. 0. 0. 0. 0. 0. 0. 0. 0. 0. 0. 0. 0. 0. 0. 0. 0. 0. 0. 0. 0. 0. 0. 0.\n",
      " 0. 0. 0. 0. 0. 0. 0. 0. 0. 0. 0. 0. 0. 0. 0. 0.]\n"
     ]
    }
   ],
   "source": [
    "model_II = LogisticRegression()\n",
    "model_II.fit(data_train.reshape(-1,1),data_train_label)\n",
    "model_II.predict(data_test)\n",
    "print(model_II.predict(data_test))"
   ]
  },
  {
   "cell_type": "code",
   "execution_count": 84,
   "metadata": {},
   "outputs": [
    {
     "name": "stderr",
     "output_type": "stream",
     "text": [
      "f:\\anaconda\\lib\\site-packages\\matplotlib\\legend.py:592: UserWarning: The handle '_' has a label of '_' which cannot be automatically added to the legend.\n",
      "  'legend.'.format(handle, label))\n",
      "f:\\anaconda\\lib\\site-packages\\matplotlib\\legend.py:937: UserWarning: Legend does not support 'x' instances.\n",
      "A proxy artist may be used instead.\n",
      "See: http://matplotlib.org/users/legend_guide.html#creating-artists-specifically-for-adding-to-the-legend-aka-proxy-artists\n",
      "  \"aka-proxy-artists\".format(orig_handle)\n",
      "f:\\anaconda\\lib\\site-packages\\matplotlib\\legend.py:937: UserWarning: Legend does not support 't' instances.\n",
      "A proxy artist may be used instead.\n",
      "See: http://matplotlib.org/users/legend_guide.html#creating-artists-specifically-for-adding-to-the-legend-aka-proxy-artists\n",
      "  \"aka-proxy-artists\".format(orig_handle)\n",
      "f:\\anaconda\\lib\\site-packages\\matplotlib\\legend.py:937: UserWarning: Legend does not support 'e' instances.\n",
      "A proxy artist may be used instead.\n",
      "See: http://matplotlib.org/users/legend_guide.html#creating-artists-specifically-for-adding-to-the-legend-aka-proxy-artists\n",
      "  \"aka-proxy-artists\".format(orig_handle)\n",
      "f:\\anaconda\\lib\\site-packages\\matplotlib\\legend.py:937: UserWarning: Legend does not support 's' instances.\n",
      "A proxy artist may be used instead.\n",
      "See: http://matplotlib.org/users/legend_guide.html#creating-artists-specifically-for-adding-to-the-legend-aka-proxy-artists\n",
      "  \"aka-proxy-artists\".format(orig_handle)\n"
     ]
    },
    {
     "data": {
      "image/png": "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",
      "text/plain": [
       "<Figure size 432x288 with 1 Axes>"
      ]
     },
     "metadata": {
      "needs_background": "light"
     },
     "output_type": "display_data"
    }
   ],
   "source": [
    "# 使用minimize进行检验\n",
    "res_II = minimize(get_mse,x0 = -1,args=(data_train.reshape(1,-1)[0],data_train_label))\n",
    "\n",
    "# 构建函数后进行预测\n",
    "w_II = res_II.x\n",
    "\n",
    "data_pre = sigmoid(data_train * w_II)\n",
    "\n",
    "plt.plot(data_train_label,color = 'red')\n",
    "plt.plot(data_pre,color = 'blue')\n",
    "plt.legend('x_test','x_pre')\n",
    "plt.show()"
   ]
  },
  {
   "cell_type": "code",
   "execution_count": 85,
   "metadata": {},
   "outputs": [
    {
     "name": "stdout",
     "output_type": "stream",
     "text": [
      "33.0\n",
      "35\n"
     ]
    }
   ],
   "source": [
    "#  从图像可以看出大致在35的数据中可以分别出两类\n",
    "p = data_pre[35]\n",
    "count = []\n",
    "for i in range(len(data_pre)):\n",
    "    if data_pre[i][0] > p:\n",
    "        count.append(1) #计算为标签为1\n",
    "    else:\n",
    "        count.append(0)\n",
    "count = np.array(count)\n",
    "\n",
    "\n",
    "\n",
    "# 得到使用mininazi得到的模型训练结果与原本的进行比较\n",
    "print(sum(data_train_label))\n",
    "print(sum(count))\n"
   ]
  }
 ],
 "metadata": {
  "kernelspec": {
   "display_name": "Python 3.7.0 ('base')",
   "language": "python",
   "name": "python3"
  },
  "language_info": {
   "codemirror_mode": {
    "name": "ipython",
    "version": 3
   },
   "file_extension": ".py",
   "mimetype": "text/x-python",
   "name": "python",
   "nbconvert_exporter": "python",
   "pygments_lexer": "ipython3",
   "version": "3.7.0"
  },
  "orig_nbformat": 4,
  "vscode": {
   "interpreter": {
    "hash": "ec3b6344b8b3f6c3db1463248c46b8920f4fc68f6187e2c1e71f56a52299e245"
   }
  }
 },
 "nbformat": 4,
 "nbformat_minor": 2
}

"心得体会
 1.学会使用sklearn训练和使用logistic模型
 2.学会二分类问题的求解
 3.学会使用spicy.optimize中的优化算法训练logistic regression，得到逻辑回归的函数。将预测数值带入函数后，得到对应的数据，再
                根据图像看出大致的分类概率。
 4.熟悉了代码及公式"
